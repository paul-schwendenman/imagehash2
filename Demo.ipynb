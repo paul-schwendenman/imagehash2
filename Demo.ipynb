{
 "metadata": {
  "name": ""
 },
 "nbformat": 3,
 "nbformat_minor": 0,
 "worksheets": [
  {
   "cells": [
    {
     "cell_type": "code",
     "collapsed": false,
     "input": [
      "import numpy\n",
      "from PIL import Image\n",
      "from matplotlib.pyplot import imshow"
     ],
     "language": "python",
     "metadata": {},
     "outputs": [],
     "prompt_number": 2
    },
    {
     "cell_type": "code",
     "collapsed": false,
     "input": [
      "%matplotlib inline"
     ],
     "language": "python",
     "metadata": {},
     "outputs": [],
     "prompt_number": 3
    },
    {
     "cell_type": "code",
     "collapsed": false,
     "input": [
      "from imagehash import grayscale_hash, rgb_hash, cmyk_hash"
     ],
     "language": "python",
     "metadata": {},
     "outputs": [],
     "prompt_number": 4
    },
    {
     "cell_type": "code",
     "collapsed": false,
     "input": [
      "image1 = Image.open('img/GOPR0151.JPG')\n",
      "image2 = Image.open('img/GOPR0152.JPG')\n",
      "black = Image.open('img/black.JPG')\n",
      "image3 = Image.open('img/IMG_1295.JPG')\n",
      "image4 = Image.open('img/IMG_1313.JPG')\n",
      "image5 = Image.open('img/IMG_2733.JPG')\n",
      "image6 = Image.open('img/IMG_3334.JPG')\n"
     ],
     "language": "python",
     "metadata": {},
     "outputs": [],
     "prompt_number": 5
    },
    {
     "cell_type": "code",
     "collapsed": false,
     "input": [
      "images = [image1, image2, image3, image4, image5, image6]\n",
      "hashes = [rgb_hash(image) for image in images]"
     ],
     "language": "python",
     "metadata": {},
     "outputs": [],
     "prompt_number": 6
    },
    {
     "cell_type": "code",
     "collapsed": false,
     "input": [
      "color_hash = rgb_hash\n",
      "color_hash(image1) - color_hash(image2)"
     ],
     "language": "python",
     "metadata": {},
     "outputs": [
      {
       "metadata": {},
       "output_type": "pyout",
       "prompt_number": 7,
       "text": [
        "6"
       ]
      }
     ],
     "prompt_number": 7
    },
    {
     "cell_type": "code",
     "collapsed": false,
     "input": [
      "color_hash(image1, 4) - color_hash(image2, 4)"
     ],
     "language": "python",
     "metadata": {},
     "outputs": [
      {
       "metadata": {},
       "output_type": "pyout",
       "prompt_number": 14,
       "text": [
        "4"
       ]
      }
     ],
     "prompt_number": 14
    },
    {
     "cell_type": "code",
     "collapsed": false,
     "input": [
      "color_hash(image1) - color_hash(black)"
     ],
     "language": "python",
     "metadata": {},
     "outputs": [
      {
       "metadata": {},
       "output_type": "pyout",
       "prompt_number": 15,
       "text": [
        "144"
       ]
      }
     ],
     "prompt_number": 15
    },
    {
     "cell_type": "code",
     "collapsed": false,
     "input": [
      "[hashes[0] - a_hash for a_hash in hashes]"
     ],
     "language": "python",
     "metadata": {},
     "outputs": [
      {
       "metadata": {},
       "output_type": "pyout",
       "prompt_number": 10,
       "text": [
        "[0, 6, 78, 70, 46, 60]"
       ]
      }
     ],
     "prompt_number": 10
    },
    {
     "cell_type": "code",
     "collapsed": false,
     "input": [
      "[hashes[1] - a_hash for a_hash in hashes]"
     ],
     "language": "python",
     "metadata": {},
     "outputs": [
      {
       "metadata": {},
       "output_type": "pyout",
       "prompt_number": 16,
       "text": [
        "[6, 0, 78, 70, 44, 60]"
       ]
      }
     ],
     "prompt_number": 16
    },
    {
     "cell_type": "code",
     "collapsed": false,
     "input": [
      "[hashes[2] - a_hash for a_hash in hashes]"
     ],
     "language": "python",
     "metadata": {},
     "outputs": [
      {
       "metadata": {},
       "output_type": "pyout",
       "prompt_number": 18,
       "text": [
        "[78, 78, 0, 19, 109, 70]"
       ]
      }
     ],
     "prompt_number": 18
    },
    {
     "cell_type": "code",
     "collapsed": false,
     "input": [
      "[hashes[3] - a_hash for a_hash in hashes]"
     ],
     "language": "python",
     "metadata": {},
     "outputs": [
      {
       "metadata": {},
       "output_type": "pyout",
       "prompt_number": 19,
       "text": [
        "[70, 70, 19, 0, 99, 62]"
       ]
      }
     ],
     "prompt_number": 19
    },
    {
     "cell_type": "code",
     "collapsed": false,
     "input": [
      "[hashes[4] - a_hash for a_hash in hashes]"
     ],
     "language": "python",
     "metadata": {},
     "outputs": [
      {
       "metadata": {},
       "output_type": "pyout",
       "prompt_number": 20,
       "text": [
        "[46, 44, 109, 99, 0, 77]"
       ]
      }
     ],
     "prompt_number": 20
    },
    {
     "cell_type": "code",
     "collapsed": false,
     "input": [
      "[hashes[5] - a_hash for a_hash in hashes]"
     ],
     "language": "python",
     "metadata": {},
     "outputs": [
      {
       "metadata": {},
       "output_type": "pyout",
       "prompt_number": 12,
       "text": [
        "[60, 60, 70, 62, 77, 0]"
       ]
      }
     ],
     "prompt_number": 12
    },
    {
     "cell_type": "code",
     "collapsed": false,
     "input": [
      "[color_hash(black) - a_hash for a_hash in hashes]"
     ],
     "language": "python",
     "metadata": {},
     "outputs": [
      {
       "metadata": {},
       "output_type": "pyout",
       "prompt_number": 13,
       "text": [
        "[144, 145, 100, 110, 157, 95]"
       ]
      }
     ],
     "prompt_number": 13
    },
    {
     "cell_type": "code",
     "collapsed": false,
     "input": [
      "hashes_3 = [color_hash(image, 3) for image in images]"
     ],
     "language": "python",
     "metadata": {},
     "outputs": [],
     "prompt_number": 14
    },
    {
     "cell_type": "code",
     "collapsed": false,
     "input": [
      "[hashes[5] - a_hash for a_hash in hashes]"
     ],
     "language": "python",
     "metadata": {},
     "outputs": [
      {
       "metadata": {},
       "output_type": "pyout",
       "prompt_number": 21,
       "text": [
        "[60, 60, 70, 62, 77, 0]"
       ]
      }
     ],
     "prompt_number": 21
    },
    {
     "cell_type": "code",
     "collapsed": false,
     "input": [
      "[hashes_3[5] - a_hash for a_hash in hashes_3]"
     ],
     "language": "python",
     "metadata": {},
     "outputs": [
      {
       "metadata": {},
       "output_type": "pyout",
       "prompt_number": 22,
       "text": [
        "[57, 56, 65, 59, 67, 0]"
       ]
      }
     ],
     "prompt_number": 22
    },
    {
     "cell_type": "code",
     "collapsed": false,
     "input": [
      "[(hashes_3[3] - a_hash) for a_hash in hashes_3]"
     ],
     "language": "python",
     "metadata": {},
     "outputs": [
      {
       "metadata": {},
       "output_type": "pyout",
       "prompt_number": 24,
       "text": [
        "[67, 67, 18, 0, 95, 59]"
       ]
      }
     ],
     "prompt_number": 24
    },
    {
     "cell_type": "code",
     "collapsed": false,
     "input": [
      "[(hashes[3] - a_hash) for a_hash in hashes]"
     ],
     "language": "python",
     "metadata": {},
     "outputs": [
      {
       "metadata": {},
       "output_type": "pyout",
       "prompt_number": 25,
       "text": [
        "[70, 70, 19, 0, 99, 62]"
       ]
      }
     ],
     "prompt_number": 25
    },
    {
     "cell_type": "code",
     "collapsed": false,
     "input": [
      "[(hashes[0] - a_hash) for a_hash in hashes]"
     ],
     "language": "python",
     "metadata": {},
     "outputs": [
      {
       "metadata": {},
       "output_type": "pyout",
       "prompt_number": 27,
       "text": [
        "[0, 6, 78, 70, 46, 60]"
       ]
      }
     ],
     "prompt_number": 27
    },
    {
     "cell_type": "code",
     "collapsed": false,
     "input": [
      "[(hashes_3[0] - a_hash) for a_hash in hashes_3]"
     ],
     "language": "python",
     "metadata": {},
     "outputs": [
      {
       "metadata": {},
       "output_type": "pyout",
       "prompt_number": 32,
       "text": [
        "[0, 2, 74, 67, 36, 57]"
       ]
      }
     ],
     "prompt_number": 32
    },
    {
     "cell_type": "code",
     "collapsed": false,
     "input": [
      "ahashes = [grayscale_hash(image) for image in images]"
     ],
     "language": "python",
     "metadata": {},
     "outputs": [],
     "prompt_number": 16
    },
    {
     "cell_type": "code",
     "collapsed": false,
     "input": [
      "[(ahashes[0] - a_hash) for a_hash in ahashes]"
     ],
     "language": "python",
     "metadata": {},
     "outputs": [
      {
       "metadata": {},
       "output_type": "pyout",
       "prompt_number": 17,
       "text": [
        "[0, 6, 39, 33, 40, 54]"
       ]
      }
     ],
     "prompt_number": 17
    },
    {
     "cell_type": "code",
     "collapsed": false,
     "input": [
      "ahashes[0].array"
     ],
     "language": "python",
     "metadata": {},
     "outputs": [
      {
       "metadata": {},
       "output_type": "pyout",
       "prompt_number": 18,
       "text": [
        "array([[171, 177, 178, 174, 168, 159, 149, 139],\n",
        "       [178, 173, 172, 168, 163, 157, 149, 142],\n",
        "       [183, 184, 191, 184, 172, 169, 168, 166],\n",
        "       [169, 182, 191, 195, 194, 193, 192, 116],\n",
        "       [136, 141, 146, 153, 159, 162, 158, 118],\n",
        "       [127, 128, 130, 132,  92, 116, 138,  82],\n",
        "       [111, 109, 112, 113, 106, 118, 113,  97],\n",
        "       [103,  94,  99, 104, 102, 149, 113,  76]])"
       ]
      }
     ],
     "prompt_number": 18
    },
    {
     "cell_type": "code",
     "collapsed": false,
     "input": [
      "str(ahashes[0])"
     ],
     "language": "python",
     "metadata": {},
     "outputs": [
      {
       "metadata": {},
       "output_type": "pyout",
       "prompt_number": 19,
       "text": [
        "'abb1b2aea89f958bb2adaca8a39d958eb7b8bfb8aca9a8a6a9b6bfc3c2c1c074888d92999fa29e767f8082845c748a526f6d70716a767161675e63686695714c'"
       ]
      }
     ],
     "prompt_number": 19
    },
    {
     "cell_type": "code",
     "collapsed": false,
     "input": [
      "hash_size = 2\n",
      "i = Image.open('img/IMG_2342.JPG').convert(\"RGB\").resize((2, 2), Image.ANTIALIAS)\n",
      "pixels = numpy.array(i.getdata()).flatten().reshape((3, 2, 2))\n",
      "pixels"
     ],
     "language": "python",
     "metadata": {},
     "outputs": [
      {
       "metadata": {},
       "output_type": "pyout",
       "prompt_number": 20,
       "text": [
        "array([[[ 82,  81],\n",
        "        [ 74,  74]],\n",
        "\n",
        "       [[ 69,  72],\n",
        "        [146, 107]],\n",
        "\n",
        "       [[ 92, 134],\n",
        "        [105,  99]]])"
       ]
      }
     ],
     "prompt_number": 20
    },
    {
     "cell_type": "code",
     "collapsed": false,
     "input": [
      "ahashes = [cmyk_hash(image) for image in images]"
     ],
     "language": "python",
     "metadata": {},
     "outputs": [],
     "prompt_number": 8
    },
    {
     "cell_type": "code",
     "collapsed": false,
     "input": [
      "[(ahashes[0] - a_hash) for a_hash in ahashes]"
     ],
     "language": "python",
     "metadata": {},
     "outputs": [
      {
       "metadata": {},
       "output_type": "pyout",
       "prompt_number": 9,
       "text": [
        "[0, 5, 58, 52, 34, 45]"
       ]
      }
     ],
     "prompt_number": 9
    },
    {
     "cell_type": "code",
     "collapsed": false,
     "input": [
      "[(ahashes[1] - a_hash) for a_hash in ahashes]"
     ],
     "language": "python",
     "metadata": {},
     "outputs": [
      {
       "metadata": {},
       "output_type": "pyout",
       "prompt_number": 10,
       "text": [
        "[5, 0, 59, 53, 33, 45]"
       ]
      }
     ],
     "prompt_number": 10
    },
    {
     "cell_type": "code",
     "collapsed": false,
     "input": [
      "[(ahashes[3] - a_hash) for a_hash in ahashes]"
     ],
     "language": "python",
     "metadata": {},
     "outputs": [
      {
       "metadata": {},
       "output_type": "pyout",
       "prompt_number": 11,
       "text": [
        "[52, 53, 14, 0, 74, 47]"
       ]
      }
     ],
     "prompt_number": 11
    },
    {
     "cell_type": "code",
     "collapsed": false,
     "input": [
      "[(ahashes[2] - a_hash) for a_hash in ahashes]"
     ],
     "language": "python",
     "metadata": {},
     "outputs": [
      {
       "metadata": {},
       "output_type": "pyout",
       "prompt_number": 13,
       "text": [
        "[58, 59, 0, 14, 81, 52]"
       ]
      }
     ],
     "prompt_number": 13
    },
    {
     "cell_type": "code",
     "collapsed": false,
     "input": [
      "hash_size = 2\n",
      "i = Image.open('img/IMG_2342.JPG').convert(\"CMYK\").resize((hash_size, hash_size), Image.ANTIALIAS)\n",
      "pixels = numpy.array(i.getdata())\n",
      "pixels"
     ],
     "language": "python",
     "metadata": {},
     "outputs": [
      {
       "metadata": {},
       "output_type": "pyout",
       "prompt_number": 18,
       "text": [
        "array([[173, 174, 181,   0],\n",
        "       [181, 186, 183,   0],\n",
        "       [109, 148, 163,   0],\n",
        "       [121, 150, 156,   0]])"
       ]
      }
     ],
     "prompt_number": 18
    },
    {
     "cell_type": "code",
     "collapsed": false,
     "input": [
      "hash_size = 2\n",
      "i = Image.open('img/IMG_2342.JPG').convert(\"CMYK\").resize((hash_size, hash_size), Image.ANTIALIAS)\n",
      "pixels = numpy.array(i.getdata()).flatten('F').reshape((4, hash_size, hash_size))\n",
      "pixels"
     ],
     "language": "python",
     "metadata": {},
     "outputs": [
      {
       "metadata": {},
       "output_type": "pyout",
       "prompt_number": 19,
       "text": [
        "array([[[173, 181],\n",
        "        [109, 121]],\n",
        "\n",
        "       [[174, 186],\n",
        "        [148, 150]],\n",
        "\n",
        "       [[181, 183],\n",
        "        [163, 156]],\n",
        "\n",
        "       [[  0,   0],\n",
        "        [  0,   0]]])"
       ]
      }
     ],
     "prompt_number": 19
    }
   ],
   "metadata": {}
  }
 ]
}